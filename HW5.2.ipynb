{
 "cells": [
  {
   "cell_type": "code",
   "execution_count": 365,
   "metadata": {},
   "outputs": [],
   "source": [
    "import numpy as np\n",
    "import matplotlib.pyplot as plt\n",
    "import matplotlib.colors as cl\n",
    "import matplotlib.animation as animation\n",
    "from typing import Tuple, List\n"
   ]
  },
  {
   "cell_type": "code",
   "execution_count": 366,
   "metadata": {},
   "outputs": [],
   "source": [
    "class Vortex: \n",
    "    def __init__(self, gamma: float, center_x: float, center_y: float):\n",
    "        self.gamma = gamma\n",
    "        self.center_x = center_x\n",
    "        self.center_y = center_y\n",
    "\n",
    "    def get_polar(self, center_x: float, center_y: float, coord_x: int, coord_y: int) -> Tuple[float, float]:\n",
    "        r = np.sqrt((coord_x - center_x)**2 + (coord_y - center_y)**2)\n",
    "        theta = np.arctan2((coord_y - center_y), (coord_x - center_x))\n",
    "        return (r, theta)\n",
    "\n",
    "    def apply_phantom_vortex(self, coord_x: int, coord_y: int, copy_x: int, copy_y: int) -> Tuple[float, float]:\n",
    "        phantom_gamma = -self.gamma\n",
    "        phantom_r, phantom_theta = self.get_polar(copy_x, copy_y, coord_x, coord_y)\n",
    "        u_theta_x = 0\n",
    "        u_theta_y = 0\n",
    "        if 0 < phantom_r and phantom_r < 25:\n",
    "            u_theta = phantom_gamma/(2*np.pi*phantom_r)\n",
    "            u_theta_x = -u_theta*np.sin(phantom_theta)\n",
    "            u_theta_y = u_theta*np.cos(phantom_theta)\n",
    "        \n",
    "        return (u_theta_x, u_theta_y)\n",
    "\n",
    "\n",
    "    def generate_vectorfield(self, x: np.ndarray, y: np.ndarray) -> Tuple[np.ndarray, np.ndarray]:\n",
    "        # GIVEN a vectorfield, generate the change in the vectorfield caused by this vortex\n",
    "        U_matrix = np.zeros_like(x)\n",
    "        V_matrix = np.zeros_like(y)\n",
    "        for i in range(len(x)):\n",
    "            for j in range(len(x[i])):\n",
    "                r, theta = self.get_polar(self.center_x, self.center_y, x[i][j], y[i][j])\n",
    "                u_theta_x = 0.0\n",
    "                u_theta_y = 0.0\n",
    "                if 0 < r and r < 25:\n",
    "                    u_theta = self.gamma/(2*np.pi*r)\n",
    "                    u_theta_x = -u_theta*np.sin(theta)\n",
    "                    u_theta_y = u_theta*np.cos(theta)\n",
    "\n",
    "                if i < 25:\n",
    "                    u_theta_x_p, u_theta_y_p = self.apply_phantom_vortex(i, j, -self.center_x, self.center_y)\n",
    "                    u_theta_x += u_theta_x_p\n",
    "                    u_theta_y += u_theta_y_p\n",
    "                if i > len(x) - 26:\n",
    "                    u_theta_x_p, u_theta_y_p = self.apply_phantom_vortex(i, j, 2 * len(x) - self.center_x, self.center_y)\n",
    "                    u_theta_x += u_theta_x_p\n",
    "                    u_theta_y += u_theta_y_p\n",
    "                if j < 25:\n",
    "                    u_theta_x_p, u_theta_y_p = self.apply_phantom_vortex(i, j, self.center_x, -self.center_y)\n",
    "                    u_theta_x += u_theta_x_p\n",
    "                    u_theta_y += u_theta_y_p\n",
    "                if j > len(y[i]) - 26:\n",
    "                    u_theta_x_p, u_theta_y_p = self.apply_phantom_vortex(i, j, self.center_x, 2 * len(y[i]) - self.center_y)\n",
    "                    u_theta_x += u_theta_x_p\n",
    "                    u_theta_y += u_theta_y_p\n",
    "\n",
    "                U_matrix[i][j] = u_theta_x\n",
    "                V_matrix[i][j] = u_theta_y\n",
    "        return (U_matrix, V_matrix)\n",
    "\n",
    "class Field:\n",
    "    def __init__(self, x_dim: int, y_dim: int, vortices: List[Vortex]):\n",
    "        self.vortices = vortices\n",
    "        self.x = np.zeros((x_dim, y_dim), dtype=float)\n",
    "        self.y = np.zeros((x_dim, y_dim), dtype=float)\n",
    "\n",
    "    def move_timestep(self, dt: float):\n",
    "        # 1. Calculate vectorfields of all vortices\n",
    "        U_matrix = np.zeros_like(self.x, dtype=float)\n",
    "        V_matrix = np.zeros_like(self.y, dtype=float)\n",
    "        for vort in self.vortices:\n",
    "            X, Y = vort.generate_vectorfield(self.x, self.y)\n",
    "            # 2. Sum them up on the overall vectorfield\n",
    "            U_matrix += (X * dt)\n",
    "            V_matrix += (Y * dt)\n",
    "\n",
    "        self.x += U_matrix\n",
    "        self.y += V_matrix\n",
    "\n",
    "        # 3. Move the vortices\n",
    "        for i in range(len(self.vortices)):\n",
    "            closest_i = int(round(self.vortices[i].center_x)) - 1\n",
    "            closest_j = int(round(self.vortices[i].center_y)) - 1\n",
    "            self.vortices[i].center_x += U_matrix[closest_i][closest_j]\n",
    "            self.vortices[i].center_y += V_matrix[closest_i][closest_j]\n",
    "            \n"
   ]
  },
  {
   "cell_type": "markdown",
   "metadata": {},
   "source": []
  },
  {
   "cell_type": "code",
   "execution_count": 367,
   "metadata": {},
   "outputs": [
    {
     "name": "stdout",
     "output_type": "stream",
     "text": [
      "U min: -0.05953394694825198 U max: 0.011571374679514732\n",
      "V min: -0.07027512188956288 V max: 0.003242351157104823\n",
      "set_UVC called\n",
      "set_UVC called\n"
     ]
    },
    {
     "data": {
      "image/png": "[encoded data removed]",
      "text/plain": [
       "<Figure size 432x288 with 1 Axes>"
      ]
     },
     "metadata": {
      "needs_background": "light"
     },
     "output_type": "display_data"
    }
   ],
   "source": [
    "# Set up the grid for the vector field\n",
    "vortex1 = Vortex(1, 5 , 7)\n",
    "vortex2 = Vortex(-1, 9 , 2)\n",
    "field = Field(10, 10, [vortex1, vortex2])\n",
    "field.move_timestep(1.0)\n",
    "U = field.x \n",
    "V = field.y \n",
    "print(\"U min:\", np.min(U), \"U max:\", np.max(U))\n",
    "print(\"V min:\", np.min(V), \"V max:\", np.max(V))\n",
    "\n",
    "# Set up the figure and axis\n",
    "fig, ax = plt.subplots()\n",
    "ax.set_xlim(0, 9)\n",
    "ax.set_ylim(0, 9)\n",
    "ax.set_title(\"Animation\")\n",
    "mesh_x, mesh_y = np.mgrid[:len(field.x), :len(field.x[0])]\n",
    "quiver = ax.quiver(mesh_x, mesh_y, U, V, scale=10, width=0.005)\n",
    "\n",
    "# Animation function to update U and V at each frame\n",
    "def animate(frame):\n",
    "    # update field\n",
    "    field.move_timestep(1.0)\n",
    "    U = field.x \n",
    "    V = field.y\n",
    "\n",
    "    \n",
    "    quiver.set_UVC(U,V)\n",
    "    print(\"set_UVC called\")\n",
    "\n",
    "    return quiver,\n",
    "\n",
    "ani = animation.FuncAnimation(fig, animate, frames=range(100), interval=100, blit=True, cache_frame_data=False, repeat=True)\n",
    "plt.show()\n"
   ]
  },
  {
   "cell_type": "code",
   "execution_count": 368,
   "metadata": {},
   "outputs": [
    {
     "name": "stderr",
     "output_type": "stream",
     "text": [
      "<ipython-input-368-2647becc17b9>:29: UserWarning: frames=None which we can infer the length of, did not pass an explicit *save_count* and passed cache_frame_data=True.  To avoid a possibly unbounded cache, frame data caching has been disabled. To suppress this warning either pass `cache_frame_data=False` or `save_count=MAX_FRAMES`.\n",
      "  anim = animation.FuncAnimation(fig, update_quiver, fargs=(Q, X, Y),\n"
     ]
    },
    {
     "data": {
      "image/png": "[encoded data removed]",
      "text/plain": [
       "<Figure size 432x288 with 1 Axes>"
      ]
     },
     "metadata": {
      "needs_background": "light"
     },
     "output_type": "display_data"
    }
   ],
   "source": [
    "import numpy as np\n",
    "from matplotlib import pyplot as plt\n",
    "from matplotlib import animation\n",
    "\n",
    "X, Y = np.mgrid[:2*np.pi:10j,:2*np.pi:5j]\n",
    "U = np.cos(X)\n",
    "V = np.sin(Y)\n",
    "\n",
    "fig, ax = plt.subplots(1,1)\n",
    "Q = ax.quiver(X, Y, U, V, pivot='mid', color='r', units='inches')\n",
    "\n",
    "ax.set_xlim(-1, 7)\n",
    "ax.set_ylim(-1, 7)\n",
    "\n",
    "def update_quiver(num, Q, X, Y):\n",
    "    \"\"\"updates the horizontal and vertical vector components by a\n",
    "    fixed increment on each frame\n",
    "    \"\"\"\n",
    "\n",
    "    U = np.cos(X + num*0.1)\n",
    "    V = np.sin(Y + num*0.1)\n",
    "\n",
    "    Q.set_UVC(U,V)\n",
    "\n",
    "    return Q,\n",
    "\n",
    "# you need to set blit=False, or the first set of arrows never gets\n",
    "# cleared on subsequent frames\n",
    "anim = animation.FuncAnimation(fig, update_quiver, fargs=(Q, X, Y),\n",
    "                               interval=50, blit=False)\n",
    "fig.tight_layout()\n",
    "plt.show()"
   ]
  }
 ],
 "metadata": {
  "kernelspec": {
   "display_name": "math_env",
   "language": "python",
   "name": "python3"
  },
  "language_info": {
   "codemirror_mode": {
    "name": "ipython",
    "version": 3
   },
   "file_extension": ".py",
   "mimetype": "text/x-python",
   "name": "python",
   "nbconvert_exporter": "python",
   "pygments_lexer": "ipython3",
   "version": "3.8.16"
  }
 },
 "nbformat": 4,
 "nbformat_minor": 2
}
